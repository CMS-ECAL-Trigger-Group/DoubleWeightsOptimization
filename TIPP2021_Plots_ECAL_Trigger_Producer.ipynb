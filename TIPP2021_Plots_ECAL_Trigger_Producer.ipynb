{
 "cells": [
  {
   "cell_type": "code",
   "execution_count": 1,
   "metadata": {},
   "outputs": [],
   "source": [
    "################################################################################################################################\n",
    "# 3 May 2021                                                                                                                   #    \n",
    "# Abraham Tishelman-Charny                                                                                                     #\n",
    "#                                                                                                                              #\n",
    "# The purpose of this notebook is to prepare ECAL Trigger plots for CMS approval, with the aim of including in TIPP2021 poster #\n",
    "################################################################################################################################"
   ]
  },
  {
   "cell_type": "code",
   "execution_count": 2,
   "metadata": {},
   "outputs": [],
   "source": [
    "import uproot \n",
    "import numpy as np \n",
    "from matplotlib import pyplot as plt "
   ]
  },
  {
   "cell_type": "code",
   "execution_count": 14,
   "metadata": {},
   "outputs": [
    {
     "data": {
      "text/plain": [
       "[b'BX0',\n",
       " b'nPU',\n",
       " b'trueA',\n",
       " b'trueA_T',\n",
       " b'digis',\n",
       " b'E_pu',\n",
       " b'second_set_digis',\n",
       " b'second_set_signal_digis',\n",
       " b'second_set_trueA',\n",
       " b'second_set_trueA_T',\n",
       " b'first_set_t0',\n",
       " b'second_set_t0',\n",
       " b'noise_digis',\n",
       " b'signal_digis',\n",
       " b'pileup_digis',\n",
       " b'energyPU']"
      ]
     },
     "execution_count": 14,
     "metadata": {},
     "output_type": "execute_result"
    }
   ],
   "source": [
    "# f_u['samples'].keys()"
   ]
  },
  {
   "cell_type": "code",
   "execution_count": 3,
   "metadata": {},
   "outputs": [],
   "source": [
    "##-- Want to plot rejected spike times from a strip with OOT weights for CMS plot approval \n",
    "##-- Need input sample, 2 sets of weights to use \n",
    "\n",
    "f = \"/eos/user/a/atishelm/ntuples/EcalL1Optimization/DoubleWeights/GradientDescent/PU50_1M_Events_3GeVminSpikes/samples/hadded.root\"\n",
    "f_u = uproot.open(f)"
   ]
  },
  {
   "cell_type": "code",
   "execution_count": 4,
   "metadata": {},
   "outputs": [],
   "source": [
    "PUoptimized_weights_first_set = [0, 0, -0.546875, -0.546875, 0.265625, 0.484375, 0.34375, 0, 0, 0]\n",
    "p5_weights_two = [0, 0, -0.546875, -0.546875, 0.171875, 0.515625, 0.421875, 0, 0, 0]\n",
    "p7p5_weights_two = [0, 0, -0.546875, -0.546875, 0.109375, 0.515625, 0.453125, 0, 0, 0]\n",
    "p10_weights_two = [0, 0, -0.53125, -0.53125, 0.046875, 0.53125, 0.484375, 0, 0, 0]\n",
    "p12p5_weights_two = [0, 0, -0.515625, -0.515625, -0.03125, 0.53125, 0.53125, 0, 0, 0]\n",
    "p15_weights_two = [0, 0, -0.484375, -0.484375, -0.125, 0.53125, 0.5625, 0, 0, 0]\n",
    "p17p5_weights_two = [0, 0, -0.453125, -0.453125, -0.203125, 0.515625, 0.59375, 0, 0, 0]\n",
    "p20_weights_two = [0, 0, -0.40625, -0.40625, -0.296875, 0.5, 0.609375, 0, 0, 0]\n",
    "p22p5_weights_two = [0, 0, -0.359375, -0.359375, -0.359375, 0.46875, 0.609375, 0, 0, 0]"
   ]
  },
  {
   "cell_type": "code",
   "execution_count": 5,
   "metadata": {},
   "outputs": [
    {
     "name": "stdout",
     "output_type": "stream",
     "text": [
      "DONE\n"
     ]
    }
   ],
   "source": [
    "##-- Plot weights \n",
    "\n",
    "PUoptimized_weights_first_set = [0, 0, -0.546875, -0.546875, 0.265625, 0.484375, 0.34375, 0, 0, 0]\n",
    "p10_weights_two = [0, 0, -0.53125, -0.53125, 0.046875, 0.53125, 0.484375, 0, 0, 0]\n",
    "p15_weights_two = [0, 0, -0.484375, -0.484375, -0.125, 0.53125, 0.5625, 0, 0, 0]\n",
    "p20_weights_two = [0, 0, -0.40625, -0.40625, -0.296875, 0.5, 0.609375, 0, 0, 0]\n",
    "\n",
    "samples = [i for i in range(1,11)]\n",
    "\n",
    "fig, ax = plt.subplots()\n",
    "\n",
    "plt.plot(samples, PUoptimized_weights_first_set, label = \"In-time\", marker = '.', linestyle = '-', markersize = 12)\n",
    "plt.plot(samples, p10_weights_two, label = \"Out-of-time: 10ns\", marker = '.', linestyle = '-', markersize = 12)\n",
    "plt.plot(samples, p15_weights_two, label = \"Out-of-time: 15ns\", marker = '.', linestyle = '-', markersize = 12)\n",
    "plt.plot(samples, p20_weights_two, label = \"Out-of-time: 20ns\", marker = '.', linestyle = '-', markersize = 12)\n",
    "\n",
    "plt.title(\"In-time and out-of-time weight values\", fontsize = 20)\n",
    "plt.ylabel(\"Weight value\", fontsize = 15)\n",
    "plt.xlabel(\"Sample\", fontsize = 15)\n",
    "plt.grid()\n",
    "plt.legend()\n",
    "# plt.show()\n",
    "plt.savefig(\"/eos/user/a/atishelm/www/EcalL1Optimization/May_2021_TIPP_Approval/Weight_Values_TIPP2021.png\")\n",
    "plt.savefig(\"/eos/user/a/atishelm/www/EcalL1Optimization/May_2021_TIPP_Approval/Weight_Values_TIPP2021.pdf\")\n",
    "plt.close()\n",
    "\n",
    "print(\"DONE\")"
   ]
  },
  {
   "cell_type": "code",
   "execution_count": 6,
   "metadata": {},
   "outputs": [
    {
     "name": "stdout",
     "output_type": "stream",
     "text": [
      "Number of spike waveforms: 999600\n"
     ]
    }
   ],
   "source": [
    "spike_digis = f_u['samples']['second_set_digis'].array()\n",
    "spike_times = f_u['samples']['second_set_t0'].array()\n",
    "spike_energies = f_u['samples']['second_set_trueA_T'].array()\n",
    "signal_times = f_u['samples']['first_set_t0'].array()\n",
    "rel_spike_time = np.subtract(spike_times, signal_times)\n",
    "N_wfs = len(spike_digis)\n",
    "print(\"Number of spike waveforms:\",N_wfs)"
   ]
  },
  {
   "cell_type": "code",
   "execution_count": 9,
   "metadata": {},
   "outputs": [],
   "source": [
    "time_shifts = [\"p10\", \"p15\", \"p20\"]"
   ]
  },
  {
   "cell_type": "code",
   "execution_count": 7,
   "metadata": {},
   "outputs": [
    {
     "name": "stdout",
     "output_type": "stream",
     "text": [
      "On waveform 0\n",
      "On waveform 50000\n",
      "On waveform 100000\n",
      "On waveform 150000\n",
      "On waveform 200000\n",
      "On waveform 250000\n",
      "On waveform 300000\n",
      "On waveform 350000\n",
      "On waveform 400000\n",
      "On waveform 450000\n",
      "On waveform 500000\n",
      "On waveform 550000\n",
      "On waveform 600000\n",
      "On waveform 650000\n",
      "On waveform 700000\n",
      "On waveform 750000\n",
      "On waveform 800000\n",
      "On waveform 850000\n",
      "On waveform 900000\n",
      "On waveform 950000\n",
      "DONE\n"
     ]
    }
   ],
   "source": [
    "# time_shifts = [\"p5\", \"p7p5\", \"p10\", \"p12p5\", \"p15\", \"p17p5\", \"p20\", \"p22p5\"]\n",
    "time_shifts = [\"p10\", \"p15\", \"p20\"]\n",
    "\n",
    "max_wf = -1\n",
    "A_1 = []\n",
    "# A_2 = []\n",
    "\n",
    "##-- Instantiate A_2's \n",
    "for time_shift in time_shifts:\n",
    "    exec(\"A_2_%s = []\"%(time_shift))\n",
    "\n",
    "spike_times_ = []\n",
    "for iwf, wf in enumerate(spike_digis):\n",
    "    if(iwf%50000 == 0): print(\"On waveform %s\"%(iwf))\n",
    "    if(iwf == max_wf): break\n",
    "    A_1.append(sum(wf * PUoptimized_weights_first_set))\n",
    "#     A_2.append(sum(wf * p12p5_weights_two))\n",
    "\n",
    "    ##-- Append A_2's \n",
    "    for time_shift in time_shifts:\n",
    "        exec(\"recoA2 = sum(wf * %s_weights_two)\"%(time_shift))\n",
    "        exec(\"A_2_%s.append(recoA2)\"%(time_shift))\n",
    "        \n",
    "    spike_times_.append(rel_spike_time[iwf])\n",
    "    \n",
    "A_1 = np.array(A_1)\n",
    "# A_2 = np.array(A_2)\n",
    "\n",
    "##-- List to array A_2's \n",
    "for time_shift in time_shifts:\n",
    "    exec(\"A_2_%s = np.array(A_2_%s)\"%(time_shift, time_shift))\n",
    "\n",
    "spike_times_ = np.array(spike_times_)\n",
    "spike_energies = np.array(spike_energies)\n",
    "\n",
    "##-- A2 > A1 masks - one per time shift \n",
    "for time_shift in time_shifts:\n",
    "    exec(\"A_2_gt_A_1_mask_%s = A_2_%s > A_1\"%(time_shift, time_shift))\n",
    "\n",
    "# A_2_gt_A_1_mask = A_2 > A_1    \n",
    "    \n",
    "# fig,ax = plt.subplots(1,3, figsize=(20,4))\n",
    "# fig,ax = plt.subplots(figsize=(8,4))    \n",
    "\n",
    "print(\"DONE\")"
   ]
  },
  {
   "cell_type": "code",
   "execution_count": 10,
   "metadata": {},
   "outputs": [
    {
     "name": "stdout",
     "output_type": "stream",
     "text": [
      "On time shift: +10\n"
     ]
    },
    {
     "name": "stderr",
     "output_type": "stream",
     "text": [
      "<ipython-input-10-e9e6696fd81b>:117: RuntimeWarning: invalid value encountered in double_scalars\n",
      "  ratio_error = ratio_val * np.sqrt((error1/val_1)**2 + (error2/val_2)**2)\n",
      "<ipython-input-10-e9e6696fd81b>:144: UserWarning: This figure includes Axes that are not compatible with tight_layout, so results might be incorrect.\n",
      "  fig.tight_layout()\n"
     ]
    },
    {
     "name": "stdout",
     "output_type": "stream",
     "text": [
      "On time shift: +15\n"
     ]
    },
    {
     "name": "stderr",
     "output_type": "stream",
     "text": [
      "<ipython-input-10-e9e6696fd81b>:117: RuntimeWarning: invalid value encountered in double_scalars\n",
      "  ratio_error = ratio_val * np.sqrt((error1/val_1)**2 + (error2/val_2)**2)\n",
      "<ipython-input-10-e9e6696fd81b>:144: UserWarning: This figure includes Axes that are not compatible with tight_layout, so results might be incorrect.\n",
      "  fig.tight_layout()\n"
     ]
    },
    {
     "name": "stdout",
     "output_type": "stream",
     "text": [
      "On time shift: +20\n"
     ]
    },
    {
     "name": "stderr",
     "output_type": "stream",
     "text": [
      "<ipython-input-10-e9e6696fd81b>:117: RuntimeWarning: invalid value encountered in double_scalars\n",
      "  ratio_error = ratio_val * np.sqrt((error1/val_1)**2 + (error2/val_2)**2)\n",
      "<ipython-input-10-e9e6696fd81b>:144: UserWarning: This figure includes Axes that are not compatible with tight_layout, so results might be incorrect.\n",
      "  fig.tight_layout()\n"
     ]
    },
    {
     "name": "stdout",
     "output_type": "stream",
     "text": [
      "DONE\n"
     ]
    }
   ],
   "source": [
    "##-- Make a plot for each time shift\n",
    "\n",
    "time_shift_label_dict = {\n",
    "    \"p5\" : \"+5\",\n",
    "    \"p7p5\" : \"+7.5\",\n",
    "    \"p10\" : \"+10\",\n",
    "    \"p12p5\" : \"+12.5\",\n",
    "    \"p15\" : \"+15\",\n",
    "    \"p17p5\" : \"+17.5\",\n",
    "    \"p20\" : \"+20\",\n",
    "    \"p22p5\" : \"+22.5\",\n",
    "}\n",
    "\n",
    "for time_shift in time_shifts:\n",
    "    time_shift_label = time_shift_label_dict[time_shift]\n",
    "    print(\"On time shift:\",time_shift_label)\n",
    "\n",
    "    spikeTime_min, spikeTime_max, spike_nbins = 0, 25, 400\n",
    "    dt = (float(spikeTime_max) - spikeTime_min) / float(spike_nbins)\n",
    "    # spikeTime_min, spikeTime_max, spike_nbins = 0, 25, 25\n",
    "    spikeTimeBins = np.linspace(spikeTime_min, spikeTime_max, spike_nbins + 1)\n",
    "\n",
    "    ##-- Overlay two plots and plot ratio \n",
    "    fig, axarr = plt.subplots(2, \n",
    "                                sharex=True, \n",
    "                                gridspec_kw={\n",
    "                                    'hspace': 0.15,\n",
    "    #                                     'height_ratios': (0.8,0.2)\n",
    "                                    'height_ratios': (0.7,0.3)\n",
    "                                    }\n",
    "                                )     \n",
    "\n",
    "\n",
    "    upper = axarr[0] ##-- Upper axis. Will contain two distributions, one for each CMSSW config \n",
    "    lower = axarr[1] ##-- Lower axis. Will contain ratio of two upper distributions \n",
    "    lower.grid(True)\n",
    "    fig.set_size_inches(8, 6)\n",
    "\n",
    "    ##-- Upper left plot text\n",
    "    ##-- CMS \n",
    "    plt.text(\n",
    "        # 0.05, 0.9, u\"CMS $\\it{Preliminary}$\",\n",
    "        0., 1., u\"CMS \",\n",
    "        fontsize=18, fontweight='bold',\n",
    "        horizontalalignment='left',\n",
    "        verticalalignment='bottom',\n",
    "        transform=upper.transAxes\n",
    "    )\n",
    "\n",
    "    ##-- Preliminary \n",
    "    plt.text(\n",
    "        # 0.05, 0.9, u\"CMS $\\it{Preliminary}$\",\n",
    "        0.11, 1., u\"$\\it{Standalone}$ $\\it{Simulation}$\",\n",
    "        fontsize=18,\n",
    "        horizontalalignment='left',\n",
    "        verticalalignment='bottom',\n",
    "        transform=upper.transAxes\n",
    "    )\n",
    "\n",
    "    ##-- sqrt(s)\n",
    "    #     plt.text(\n",
    "    #             1., 1., r\"%1.0f fb$^{-1}$ (13 TeV)\" % 137,\n",
    "    #             fontsize=14, horizontalalignment='right',\n",
    "    #             verticalalignment='bottom',\n",
    "    #             transform=ax.transAxes\n",
    "    #     ) \n",
    "\n",
    "    max_spike_time = max(spike_times_)\n",
    "    \n",
    "    exec(\"time_shift_mask = A_2_gt_A_1_mask_%s\"%(time_shift))\n",
    "    \n",
    "    max_rej_time = max(spike_times_[time_shift_mask])\n",
    "    rej_spike_times = spike_times_[time_shift_mask]\n",
    "\n",
    "#     print(\"1 / max_spike_time:\",1 / max_spike_time)\n",
    "\n",
    "    # weights = [1 / max_spike_time for i in range(0,len(spike_times_))]\n",
    "    # weights_rej = [1 / max_spike_time for i in range(0,len(rej_spike_times))]\n",
    "    # print(\"weights:\",weights)\n",
    "\n",
    "    upper.hist(spike_times_,alpha=0.5,label=\"All\",bins=spikeTimeBins, histtype = 'stepfilled')\n",
    "    upper.hist(rej_spike_times,color='red',label=\"Tagged\",bins=spikeTimeBins, histtype = 'stepfilled')\n",
    "#     plt.ylabel(\"Entries\")  \n",
    "#     upper.set_ylabel(\"Entries / %s ns\"%(str(dt)), fontsize = 15, labelpad=5)\n",
    "    upper.set_ylabel(\"Entries\", fontsize = 15, labelpad=5)\n",
    "    # plt.title(\"Spike Peak Times\", fontsize = 20)\n",
    "    # plt.xlabel(r\"Spike $t_{0}$ (ns)\")\n",
    "\n",
    "    upper.legend(loc='upper right', prop={'size': 14})\n",
    "    upper.grid(True)\n",
    "    props = dict(boxstyle='round', facecolor='wheat', alpha=0.5)\n",
    "\n",
    "    ##-- Produce numpy histograms to obtain bin heights \n",
    "#     print(\"Producing numpy histograms...\")\n",
    "    allSpikes_bin_vals, bins_ = np.histogram(spike_times_, bins = spikeTimeBins)\n",
    "    rejSpikes_bin_vals, bins_ = np.histogram(rej_spike_times, bins = spikeTimeBins)\n",
    "\n",
    "    binvalues1_a = np.array(rejSpikes_bin_vals, dtype = float)\n",
    "    binvalues2_a = np.array(allSpikes_bin_vals, dtype = float)    \n",
    "\n",
    "    ##-- Get ratio of bins \n",
    "#     print(\"Taking ratio...\")\n",
    "\n",
    "    ratio = np.true_divide(binvalues1_a , binvalues2_a, out = np.zeros_like(binvalues2_a), where = binvalues2_a != 0)\n",
    "\n",
    "    ##-- Get error on each bin ratio \n",
    "    ratio_errors = []\n",
    "    for i, ratio_val in enumerate(ratio):\n",
    "        val_1 = binvalues1_a[i] \n",
    "        val_2 = binvalues2_a[i]\n",
    "        if(val_2 == 0): \n",
    "            ratio_errors.append(0)\n",
    "            continue \n",
    "        else:\n",
    "            error1 = np.sqrt(val_1)\n",
    "            error2 = np.sqrt(val_2)\n",
    "            ratio_error = ratio_val * np.sqrt((error1/val_1)**2 + (error2/val_2)**2) \n",
    "            ratio_errors.append(ratio_error)\n",
    "\n",
    "    ##-- Plot ratio of two histograms in lower section of canvas \n",
    "    bin_centers = [ (((float(spikeTimeBins[i+1]) - float(spikeTimeBins[i])) / 2.) + float(spikeTimeBins[i])) for i in range(0, len(spikeTimeBins)-1)]\n",
    "\n",
    "    # lower.plot([binInfo[0],binInfo[1]],[1,1],linestyle=':', color = 'black')\n",
    "    xerr = [ ((float(spikeTimeBins[i+1]) - float(spikeTimeBins[i])) / 2.) for i in range(0, len(spikeTimeBins) - 1)]  \n",
    "    zero_errors = [0 for entry in ratio_errors] ##-- for no errors \n",
    "    # lower.errorbar(bin_centers, ratio, xerr = xerr , yerr = ratio_errors, marker = '.', color = 'black', ls = '') #drawstyle = 'steps-mid') ##-- For no ratio error bars \n",
    "#     lower.errorbar(bin_centers, ratio, xerr = zero_errors , yerr = zero_errors, marker = '.', color = 'black', ls = '', markersize = 1) #drawstyle = 'steps-mid') ##-- For no ratio error bars \n",
    "    lower.errorbar(bin_centers, ratio, xerr = zero_errors , yerr = zero_errors, marker = '', color = 'black', ls = '-', markersize = 1) #drawstyle = 'steps-mid') ##-- For no ratio error bars \n",
    "\n",
    "#     lower.fill_between(bin_centers, np.subtract(ratio, ratio_errors), np.add(ratio, ratio_errors))\n",
    "\n",
    "    # lower.errorbar(bin_centers, ratio, xerr = xerr , yerr = ratio_errors, marker = '.', color = 'black', ls = '') #drawstyle = 'steps-mid') ##-- To add statistical ratio error bars  \n",
    "    lower.set_ylim(-0.1, 1.1) ##-- Ratio ymin, ymax \n",
    "    lower.set_ylabel(\"Fraction tagged\", fontsize = 15, labelpad=19)\n",
    "    lower.set_xlabel(r\"Spike time (ns)\", fontsize = 15) \n",
    "    # lower.plot([spikeTime_min, spikeTime_max],[1,1],linestyle=':', color = 'black')\n",
    "    \n",
    "    fig.text(0.5, 0.65, \" %s ns Weights\"%(time_shift_label), transform=upper.transAxes, fontsize=20,\n",
    "            verticalalignment='top', bbox=props)       \n",
    "    # plt.savefig('%s/RejectedWaveforms_lSiglSpike_%s_%s.png'%(outDirec,lSigVal,lSpikeVal))\n",
    "    # plt.savefig('%s/RejectedWaveforms_lSiglSpike_%s_%s.pdf'%(outDirec,lSigVal,lSpikeVal))\n",
    "    #     plt.subplots_adjust(wspace=0.2)\n",
    "    # fig.grid()\n",
    "    fig.tight_layout()\n",
    "    plt.savefig(\"/eos/user/a/atishelm/www/EcalL1Optimization/May_2021_TIPP_Approval/Double_Amplitude_Weights_SpikeTaggingwithOOTWeights_%sns.png\"%(time_shift))\n",
    "    plt.savefig(\"/eos/user/a/atishelm/www/EcalL1Optimization/May_2021_TIPP_Approval/Double_Amplitude_Weights_SpikeTaggingwithOOTWeights_%sns.pdf\"%(time_shift))\n",
    "#     plt.show()\n",
    "    plt.close()\n",
    "    \n",
    "print(\"DONE\")"
   ]
  },
  {
   "cell_type": "code",
   "execution_count": 13,
   "metadata": {},
   "outputs": [
    {
     "name": "stdout",
     "output_type": "stream",
     "text": [
      "On time shift: +10\n"
     ]
    },
    {
     "name": "stderr",
     "output_type": "stream",
     "text": [
      "<ipython-input-13-ae0fe146ec24>:119: RuntimeWarning: invalid value encountered in double_scalars\n",
      "  ratio_error = ratio_val * np.sqrt((error1/val_1)**2 + (error2/val_2)**2)\n",
      "<ipython-input-13-ae0fe146ec24>:119: RuntimeWarning: invalid value encountered in double_scalars\n",
      "  ratio_error = ratio_val * np.sqrt((error1/val_1)**2 + (error2/val_2)**2)\n"
     ]
    },
    {
     "name": "stdout",
     "output_type": "stream",
     "text": [
      "On time shift: +15\n",
      "On time shift: +20\n"
     ]
    },
    {
     "name": "stderr",
     "output_type": "stream",
     "text": [
      "<ipython-input-13-ae0fe146ec24>:119: RuntimeWarning: invalid value encountered in double_scalars\n",
      "  ratio_error = ratio_val * np.sqrt((error1/val_1)**2 + (error2/val_2)**2)\n",
      "<ipython-input-13-ae0fe146ec24>:147: UserWarning: This figure includes Axes that are not compatible with tight_layout, so results might be incorrect.\n",
      "  fig.tight_layout()\n"
     ]
    },
    {
     "name": "stdout",
     "output_type": "stream",
     "text": [
      "DONE\n"
     ]
    }
   ],
   "source": [
    "##-- Plot all time shifts on single plot \n",
    "\n",
    "time_shift_label_dict = {\n",
    "    \"p5\" : \"+5\",\n",
    "    \"p7p5\" : \"+7.5\",\n",
    "    \"p10\" : \"+10\",\n",
    "    \"p12p5\" : \"+12.5\",\n",
    "    \"p15\" : \"+15\",\n",
    "    \"p17p5\" : \"+17.5\",\n",
    "    \"p20\" : \"+20\",\n",
    "    \"p22p5\" : \"+22.5\",\n",
    "}\n",
    "\n",
    "fig, axarr = plt.subplots(2, \n",
    "                            sharex=True, \n",
    "                            gridspec_kw={\n",
    "                                'hspace': 0.15,\n",
    "#                                     'height_ratios': (0.8,0.2)\n",
    "                                'height_ratios': (0.7,0.3)\n",
    "                                }\n",
    "                            )     \n",
    "\n",
    "\n",
    "upper = axarr[0] ##-- Upper axis. Will contain two distributions, one for each CMSSW config \n",
    "lower = axarr[1] ##-- Lower axis. Will contain ratio of two upper distributions \n",
    "lower.grid(True)\n",
    "fig.set_size_inches(8, 6)\n",
    "\n",
    "##-- Upper left plot text\n",
    "##-- CMS \n",
    "plt.text(\n",
    "    # 0.05, 0.9, u\"CMS $\\it{Preliminary}$\",\n",
    "    0., 1., u\"CMS \",\n",
    "    fontsize=18, fontweight='bold',\n",
    "    horizontalalignment='left',\n",
    "    verticalalignment='bottom',\n",
    "    transform=upper.transAxes\n",
    ")\n",
    "\n",
    "##-- Preliminary \n",
    "plt.text(\n",
    "    # 0.05, 0.9, u\"CMS $\\it{Preliminary}$\",\n",
    "    0.11, 1., u\"$\\it{Standalone}$ $\\it{Simulation}$\",\n",
    "    fontsize=18,\n",
    "    horizontalalignment='left',\n",
    "    verticalalignment='bottom',\n",
    "    transform=upper.transAxes\n",
    ")\n",
    "\n",
    "spikeTime_min, spikeTime_max, spike_nbins = 0, 25, 400\n",
    "dt = (float(spikeTime_max) - spikeTime_min) / float(spike_nbins)\n",
    "spikeTimeBins = np.linspace(spikeTime_min, spikeTime_max, spike_nbins + 1)\n",
    "max_spike_time = max(spike_times_)    \n",
    "    \n",
    "##-- Plot full spike time distribution \n",
    "upper.hist(spike_times_,alpha=0.5,label=\"All\",bins=spikeTimeBins, histtype = 'stepfilled')    \n",
    "    \n",
    "\n",
    "# colors = [(165 / 255, 15 / 255, 21 / 255), (222 / 255, 45 / 255, 38 / 255), (251 / 255, 106 / 255, 74 / 255)] \n",
    "colors = [(165 / 255, 15 / 255, 21 / 255), (222 / 255, 45 / 255, 38 / 255), (251 / 255, 106 / 255, 74 / 255)] \n",
    "# colors = ['0', '1', '2', '3']\n",
    "    \n",
    "##-- Add each time shift rejection to plot \n",
    "for time_i, time_shift in enumerate(time_shifts):\n",
    "    color = colors[time_i]\n",
    "        \n",
    "    time_shift_label = time_shift_label_dict[time_shift]\n",
    "    print(\"On time shift:\",time_shift_label)\n",
    "    \n",
    "    ##-- Get time shift mask for a given time shift \n",
    "    exec(\"time_shift_mask = A_2_gt_A_1_mask_%s\"%(time_shift))\n",
    "    \n",
    "    max_rej_time = max(spike_times_[time_shift_mask])\n",
    "    rej_spike_times = spike_times_[time_shift_mask]\n",
    "\n",
    "#     print(\"1 / max_spike_time:\",1 / max_spike_time)\n",
    "\n",
    "    # weights = [1 / max_spike_time for i in range(0,len(spike_times_))]\n",
    "    # weights_rej = [1 / max_spike_time for i in range(0,len(rej_spike_times))]\n",
    "    # print(\"weights:\",weights)\n",
    "\n",
    "#     upper.hist(spike_times_,alpha=0.5,label=\"All\",bins=spikeTimeBins, histtype = 'stepfilled')\n",
    "    upper.hist(rej_spike_times,color=color,label=\"%s ns weights Tagged\"%(time_shift_label),bins=spikeTimeBins, histtype = 'stepfilled')\n",
    "#     upper.hist(rej_spike_times,label=\"%s ns weights Tagged\"%(time_shift_label),bins=spikeTimeBins, histtype = 'stepfilled')\n",
    "#     plt.ylabel(\"Entries\")  \n",
    "#     upper.set_ylabel(\"Entries / %s ns\"%(str(dt)), fontsize = 15, labelpad=5)\n",
    "    upper.set_ylabel(\"Entries\", fontsize = 15, labelpad=5)\n",
    "    # plt.title(\"Spike Peak Times\", fontsize = 20)\n",
    "    # plt.xlabel(r\"Spike $t_{0}$ (ns)\")\n",
    "\n",
    "    upper.legend(loc='upper right', prop={'size': 14})\n",
    "    upper.grid(True)\n",
    "    props = dict(boxstyle='round', facecolor='wheat', alpha=0.5)\n",
    "\n",
    "    ##-- Produce numpy histograms to obtain bin heights \n",
    "#     print(\"Producing numpy histograms...\")\n",
    "    allSpikes_bin_vals, bins_ = np.histogram(spike_times_, bins = spikeTimeBins)\n",
    "    rejSpikes_bin_vals, bins_ = np.histogram(rej_spike_times, bins = spikeTimeBins)\n",
    "\n",
    "    binvalues1_a = np.array(rejSpikes_bin_vals, dtype = float)\n",
    "    binvalues2_a = np.array(allSpikes_bin_vals, dtype = float)    \n",
    "\n",
    "    ##-- Get ratio of bins \n",
    "#     print(\"Taking ratio...\")\n",
    "\n",
    "    ratio = np.true_divide(binvalues1_a , binvalues2_a, out = np.zeros_like(binvalues2_a), where = binvalues2_a != 0)\n",
    "\n",
    "    ##-- Get error on each bin ratio \n",
    "    ratio_errors = []\n",
    "    for i, ratio_val in enumerate(ratio):\n",
    "        val_1 = binvalues1_a[i] \n",
    "        val_2 = binvalues2_a[i]\n",
    "        if(val_2 == 0): \n",
    "            ratio_errors.append(0)\n",
    "            continue \n",
    "        else:\n",
    "            error1 = np.sqrt(val_1)\n",
    "            error2 = np.sqrt(val_2)\n",
    "            ratio_error = ratio_val * np.sqrt((error1/val_1)**2 + (error2/val_2)**2) \n",
    "            ratio_errors.append(ratio_error)\n",
    "\n",
    "    ##-- Plot ratio of two histograms in lower section of canvas \n",
    "    bin_centers = [ (((float(spikeTimeBins[i+1]) - float(spikeTimeBins[i])) / 2.) + float(spikeTimeBins[i])) for i in range(0, len(spikeTimeBins)-1)]\n",
    "\n",
    "    # lower.plot([binInfo[0],binInfo[1]],[1,1],linestyle=':', color = 'black')\n",
    "    xerr = [ ((float(spikeTimeBins[i+1]) - float(spikeTimeBins[i])) / 2.) for i in range(0, len(spikeTimeBins) - 1)]  \n",
    "    zero_errors = [0 for entry in ratio_errors] ##-- for no errors \n",
    "    # lower.errorbar(bin_centers, ratio, xerr = xerr , yerr = ratio_errors, marker = '.', color = 'black', ls = '') #drawstyle = 'steps-mid') ##-- For no ratio error bars \n",
    "#     lower.errorbar(bin_centers, ratio, xerr = zero_errors , yerr = zero_errors, marker = '.', color = 'black', ls = '', markersize = 1) #drawstyle = 'steps-mid') ##-- For no ratio error bars \n",
    "    lower.errorbar(bin_centers, ratio, xerr = zero_errors , yerr = zero_errors, marker = '', color = color, ls = '-', markersize = 1) #drawstyle = 'steps-mid') ##-- For no ratio error bars \n",
    "\n",
    "#     lower.fill_between(bin_centers, np.subtract(ratio, ratio_errors), np.add(ratio, ratio_errors))\n",
    "\n",
    "    # lower.errorbar(bin_centers, ratio, xerr = xerr , yerr = ratio_errors, marker = '.', color = 'black', ls = '') #drawstyle = 'steps-mid') ##-- To add statistical ratio error bars  \n",
    "    lower.set_ylim(-0.1, 1.1) ##-- Ratio ymin, ymax \n",
    "    lower.set_ylabel(\"Fraction tagged\", fontsize = 15, labelpad=19)\n",
    "    lower.set_xlabel(r\"Spike time (ns)\", fontsize = 15) \n",
    "    # lower.plot([spikeTime_min, spikeTime_max],[1,1],linestyle=':', color = 'black')\n",
    "    \n",
    "#     fig.text(0.5, 0.65, \" %s ns Weights\"%(time_shift_label), transform=upper.transAxes, fontsize=20,\n",
    "#             verticalalignment='top', bbox=props)       \n",
    "    # plt.savefig('%s/RejectedWaveforms_lSiglSpike_%s_%s.png'%(outDirec,lSigVal,lSpikeVal))\n",
    "    # plt.savefig('%s/RejectedWaveforms_lSiglSpike_%s_%s.pdf'%(outDirec,lSigVal,lSpikeVal))\n",
    "    #     plt.subplots_adjust(wspace=0.2)\n",
    "    # fig.grid()\n",
    "    \n",
    "fig.tight_layout()\n",
    "plt.savefig(\"/eos/user/a/atishelm/www/EcalL1Optimization/May_2021_TIPP_Approval/Double_Amplitude_Weights_SpikeTaggingwithOOTWeights_allShifts.png\")\n",
    "plt.savefig(\"/eos/user/a/atishelm/www/EcalL1Optimization/May_2021_TIPP_Approval/Double_Amplitude_Weights_SpikeTaggingwithOOTWeights_allShifts.pdf\")\n",
    "plt.close()\n",
    "    \n",
    "print(\"DONE\")"
   ]
  },
  {
   "cell_type": "code",
   "execution_count": 12,
   "metadata": {},
   "outputs": [
    {
     "name": "stdout",
     "output_type": "stream",
     "text": [
      "On time shift: +5\n",
      "On time shift: +7.5\n"
     ]
    },
    {
     "name": "stderr",
     "output_type": "stream",
     "text": [
      "<ipython-input-12-fba95ecba94f>:120: RuntimeWarning: invalid value encountered in double_scalars\n",
      "  ratio_error = ratio_val * np.sqrt((error1/val_1)**2 + (error2/val_2)**2)\n"
     ]
    },
    {
     "name": "stdout",
     "output_type": "stream",
     "text": [
      "On time shift: +10\n"
     ]
    },
    {
     "name": "stderr",
     "output_type": "stream",
     "text": [
      "<ipython-input-12-fba95ecba94f>:120: RuntimeWarning: invalid value encountered in double_scalars\n",
      "  ratio_error = ratio_val * np.sqrt((error1/val_1)**2 + (error2/val_2)**2)\n"
     ]
    },
    {
     "name": "stdout",
     "output_type": "stream",
     "text": [
      "On time shift: +12.5\n"
     ]
    },
    {
     "name": "stderr",
     "output_type": "stream",
     "text": [
      "<ipython-input-12-fba95ecba94f>:120: RuntimeWarning: invalid value encountered in double_scalars\n",
      "  ratio_error = ratio_val * np.sqrt((error1/val_1)**2 + (error2/val_2)**2)\n",
      "<ipython-input-12-fba95ecba94f>:120: RuntimeWarning: invalid value encountered in double_scalars\n",
      "  ratio_error = ratio_val * np.sqrt((error1/val_1)**2 + (error2/val_2)**2)\n"
     ]
    },
    {
     "name": "stdout",
     "output_type": "stream",
     "text": [
      "On time shift: +15\n",
      "On time shift: +17.5\n",
      "On time shift: +20\n"
     ]
    },
    {
     "name": "stderr",
     "output_type": "stream",
     "text": [
      "<ipython-input-12-fba95ecba94f>:120: RuntimeWarning: invalid value encountered in double_scalars\n",
      "  ratio_error = ratio_val * np.sqrt((error1/val_1)**2 + (error2/val_2)**2)\n",
      "<ipython-input-12-fba95ecba94f>:120: RuntimeWarning: invalid value encountered in double_scalars\n",
      "  ratio_error = ratio_val * np.sqrt((error1/val_1)**2 + (error2/val_2)**2)\n"
     ]
    },
    {
     "name": "stdout",
     "output_type": "stream",
     "text": [
      "On time shift: +22.5\n"
     ]
    },
    {
     "name": "stderr",
     "output_type": "stream",
     "text": [
      "<ipython-input-12-fba95ecba94f>:120: RuntimeWarning: invalid value encountered in double_scalars\n",
      "  ratio_error = ratio_val * np.sqrt((error1/val_1)**2 + (error2/val_2)**2)\n",
      "<ipython-input-12-fba95ecba94f>:149: UserWarning: This figure includes Axes that are not compatible with tight_layout, so results might be incorrect.\n",
      "  fig.tight_layout()\n"
     ]
    },
    {
     "name": "stdout",
     "output_type": "stream",
     "text": [
      "DONE\n"
     ]
    }
   ],
   "source": [
    "##-- Plot all time shifts on single plot \n",
    "\n",
    "time_shift_label_dict = {\n",
    "    \"p5\" : \"+5\",\n",
    "    \"p7p5\" : \"+7.5\",\n",
    "    \"p10\" : \"+10\",\n",
    "    \"p12p5\" : \"+12.5\",\n",
    "    \"p15\" : \"+15\",\n",
    "    \"p17p5\" : \"+17.5\",\n",
    "    \"p20\" : \"+20\",\n",
    "    \"p22p5\" : \"+22.5\",\n",
    "}\n",
    "\n",
    "fig, axarr = plt.subplots(2, \n",
    "                            sharex=True, \n",
    "                            gridspec_kw={\n",
    "                                'hspace': 0.15,\n",
    "#                                     'height_ratios': (0.8,0.2)\n",
    "                                'height_ratios': (0.7,0.3)\n",
    "                                }\n",
    "                            )     \n",
    "\n",
    "\n",
    "upper = axarr[0] ##-- Upper axis. Will contain two distributions, one for each CMSSW config \n",
    "lower = axarr[1] ##-- Lower axis. Will contain ratio of two upper distributions \n",
    "lower.grid(True)\n",
    "fig.set_size_inches(8, 6)\n",
    "\n",
    "##-- Upper left plot text\n",
    "##-- CMS \n",
    "plt.text(\n",
    "    # 0.05, 0.9, u\"CMS $\\it{Preliminary}$\",\n",
    "    0., 1., u\"CMS \",\n",
    "    fontsize=18, fontweight='bold',\n",
    "    horizontalalignment='left',\n",
    "    verticalalignment='bottom',\n",
    "    transform=upper.transAxes\n",
    ")\n",
    "\n",
    "##-- Preliminary \n",
    "plt.text(\n",
    "    # 0.05, 0.9, u\"CMS $\\it{Preliminary}$\",\n",
    "    0.11, 1., u\"$\\it{Standalone}$ $\\it{Simulation}$\",\n",
    "    fontsize=18,\n",
    "    horizontalalignment='left',\n",
    "    verticalalignment='bottom',\n",
    "    transform=upper.transAxes\n",
    ")\n",
    "\n",
    "spikeTime_min, spikeTime_max, spike_nbins = 0, 25, 400\n",
    "dt = (float(spikeTime_max) - spikeTime_min) / float(spike_nbins)\n",
    "spikeTimeBins = np.linspace(spikeTime_min, spikeTime_max, spike_nbins + 1)\n",
    "max_spike_time = max(spike_times_)    \n",
    "    \n",
    "##-- Plot full spike time distribution \n",
    "upper.hist(spike_times_,alpha=0.5,label=\"All\",bins=spikeTimeBins, histtype = 'stepfilled')    \n",
    "    \n",
    "\n",
    "# colors = [(165 / 255, 15 / 255, 21 / 255), (222 / 255, 45 / 255, 38 / 255), (251 / 255, 106 / 255, 74 / 255)] \n",
    "# colors = [(165 / 255, 15 / 255, 21 / 255), (222 / 255, 45 / 255, 38 / 255), (251 / 255, 106 / 255, 74 / 255)] \n",
    "# colors = ['0', '1', '2', '3']\n",
    "colors = [\"C%s\"%(str(i)) for i in range(0,10)]\n",
    "    \n",
    "##-- Add each time shift rejection to plot \n",
    "for time_i, time_shift in enumerate(time_shifts):\n",
    "    color = colors[time_i]\n",
    "        \n",
    "    time_shift_label = time_shift_label_dict[time_shift]\n",
    "    print(\"On time shift:\",time_shift_label)\n",
    "    \n",
    "    ##-- Get time shift mask for a given time shift \n",
    "    exec(\"time_shift_mask = A_2_gt_A_1_mask_%s\"%(time_shift))\n",
    "    \n",
    "    max_rej_time = max(spike_times_[time_shift_mask])\n",
    "    rej_spike_times = spike_times_[time_shift_mask]\n",
    "\n",
    "#     print(\"1 / max_spike_time:\",1 / max_spike_time)\n",
    "\n",
    "    # weights = [1 / max_spike_time for i in range(0,len(spike_times_))]\n",
    "    # weights_rej = [1 / max_spike_time for i in range(0,len(rej_spike_times))]\n",
    "    # print(\"weights:\",weights)\n",
    "\n",
    "#     upper.hist(spike_times_,alpha=0.5,label=\"All\",bins=spikeTimeBins, histtype = 'stepfilled')\n",
    "    upper.hist(rej_spike_times,color=color,label=\"%s ns weights Tagged\"%(time_shift_label),bins=spikeTimeBins, histtype = 'stepfilled')\n",
    "#     upper.hist(rej_spike_times,label=\"%s ns weights Tagged\"%(time_shift_label),bins=spikeTimeBins, histtype = 'stepfilled')\n",
    "#     plt.ylabel(\"Entries\")  \n",
    "    upper.set_ylabel(\"Entries / %s ns\"%(str(dt)), fontsize = 15, labelpad=5)\n",
    "    # plt.title(\"Spike Peak Times\", fontsize = 20)\n",
    "    # plt.xlabel(r\"Spike $t_{0}$ (ns)\")\n",
    "\n",
    "#     upper.legend(loc='upper right', prop={'size': 14})\n",
    "    upper.legend(loc='upper right', prop={'size': 10})\n",
    "    upper.grid(True)\n",
    "    props = dict(boxstyle='round', facecolor='wheat', alpha=0.5)\n",
    "\n",
    "    ##-- Produce numpy histograms to obtain bin heights \n",
    "#     print(\"Producing numpy histograms...\")\n",
    "    allSpikes_bin_vals, bins_ = np.histogram(spike_times_, bins = spikeTimeBins)\n",
    "    rejSpikes_bin_vals, bins_ = np.histogram(rej_spike_times, bins = spikeTimeBins)\n",
    "\n",
    "    binvalues1_a = np.array(rejSpikes_bin_vals, dtype = float)\n",
    "    binvalues2_a = np.array(allSpikes_bin_vals, dtype = float)    \n",
    "\n",
    "    ##-- Get ratio of bins \n",
    "#     print(\"Taking ratio...\")\n",
    "\n",
    "    ratio = np.true_divide(binvalues1_a , binvalues2_a, out = np.zeros_like(binvalues2_a), where = binvalues2_a != 0)\n",
    "\n",
    "    ##-- Get error on each bin ratio \n",
    "    ratio_errors = []\n",
    "    for i, ratio_val in enumerate(ratio):\n",
    "        val_1 = binvalues1_a[i] \n",
    "        val_2 = binvalues2_a[i]\n",
    "        if(val_2 == 0): \n",
    "            ratio_errors.append(0)\n",
    "            continue \n",
    "        else:\n",
    "            error1 = np.sqrt(val_1)\n",
    "            error2 = np.sqrt(val_2)\n",
    "            ratio_error = ratio_val * np.sqrt((error1/val_1)**2 + (error2/val_2)**2) \n",
    "            ratio_errors.append(ratio_error)\n",
    "\n",
    "    ##-- Plot ratio of two histograms in lower section of canvas \n",
    "    bin_centers = [ (((float(spikeTimeBins[i+1]) - float(spikeTimeBins[i])) / 2.) + float(spikeTimeBins[i])) for i in range(0, len(spikeTimeBins)-1)]\n",
    "\n",
    "    # lower.plot([binInfo[0],binInfo[1]],[1,1],linestyle=':', color = 'black')\n",
    "    xerr = [ ((float(spikeTimeBins[i+1]) - float(spikeTimeBins[i])) / 2.) for i in range(0, len(spikeTimeBins) - 1)]  \n",
    "    zero_errors = [0 for entry in ratio_errors] ##-- for no errors \n",
    "    # lower.errorbar(bin_centers, ratio, xerr = xerr , yerr = ratio_errors, marker = '.', color = 'black', ls = '') #drawstyle = 'steps-mid') ##-- For no ratio error bars \n",
    "#     lower.errorbar(bin_centers, ratio, xerr = zero_errors , yerr = zero_errors, marker = '.', color = 'black', ls = '', markersize = 1) #drawstyle = 'steps-mid') ##-- For no ratio error bars \n",
    "#     lower.errorbar(bin_centers, ratio, xerr = zero_errors , yerr = zero_errors, marker = '', color = color, ls = '-', markersize = 1) #drawstyle = 'steps-mid') ##-- For no ratio error bars \n",
    "    lower.errorbar(bin_centers, ratio, xerr = zero_errors , yerr = zero_errors, marker = '', ls = '-', markersize = 1) #drawstyle = 'steps-mid') ##-- For no ratio error bars \n",
    "\n",
    "#     lower.fill_between(bin_centers, np.subtract(ratio, ratio_errors), np.add(ratio, ratio_errors))\n",
    "\n",
    "    # lower.errorbar(bin_centers, ratio, xerr = xerr , yerr = ratio_errors, marker = '.', color = 'black', ls = '') #drawstyle = 'steps-mid') ##-- To add statistical ratio error bars  \n",
    "    lower.set_ylim(-0.1, 1.1) ##-- Ratio ymin, ymax \n",
    "    lower.set_ylabel(\"Fraction tagged\", fontsize = 15, labelpad=19)\n",
    "    lower.set_xlabel(r\"Spike time (ns)\", fontsize = 15) \n",
    "    # lower.plot([spikeTime_min, spikeTime_max],[1,1],linestyle=':', color = 'black')\n",
    "    \n",
    "#     fig.text(0.5, 0.65, \" %s ns Weights\"%(time_shift_label), transform=upper.transAxes, fontsize=20,\n",
    "#             verticalalignment='top', bbox=props)       \n",
    "    # plt.savefig('%s/RejectedWaveforms_lSiglSpike_%s_%s.png'%(outDirec,lSigVal,lSpikeVal))\n",
    "    # plt.savefig('%s/RejectedWaveforms_lSiglSpike_%s_%s.pdf'%(outDirec,lSigVal,lSpikeVal))\n",
    "    #     plt.subplots_adjust(wspace=0.2)\n",
    "    # fig.grid()\n",
    "    \n",
    "fig.tight_layout()\n",
    "plt.savefig(\"/eos/user/a/atishelm/www/EcalL1Optimization/May_2021_TIPP_Approval/Double_Amplitude_Weights_SpikeTaggingwithOOTWeights_allShifts.png\")\n",
    "plt.savefig(\"/eos/user/a/atishelm/www/EcalL1Optimization/May_2021_TIPP_Approval/Double_Amplitude_Weights_SpikeTaggingwithOOTWeights_allShifts.pdf\")\n",
    "plt.close()\n",
    "    \n",
    "print(\"DONE\")"
   ]
  },
  {
   "cell_type": "code",
   "execution_count": 28,
   "metadata": {},
   "outputs": [
    {
     "name": "stdout",
     "output_type": "stream",
     "text": [
      "On time shift: +5\n",
      "On time shift: +7.5\n"
     ]
    },
    {
     "name": "stderr",
     "output_type": "stream",
     "text": [
      "<ipython-input-28-022fcd1288ba>:134: RuntimeWarning: invalid value encountered in double_scalars\n",
      "  ratio_error = ratio_val * np.sqrt((error1/val_1)**2 + (error2/val_2)**2)\n"
     ]
    },
    {
     "name": "stdout",
     "output_type": "stream",
     "text": [
      "On time shift: +10\n"
     ]
    },
    {
     "name": "stderr",
     "output_type": "stream",
     "text": [
      "<ipython-input-28-022fcd1288ba>:134: RuntimeWarning: invalid value encountered in double_scalars\n",
      "  ratio_error = ratio_val * np.sqrt((error1/val_1)**2 + (error2/val_2)**2)\n"
     ]
    },
    {
     "name": "stdout",
     "output_type": "stream",
     "text": [
      "On time shift: +12.5\n"
     ]
    },
    {
     "name": "stderr",
     "output_type": "stream",
     "text": [
      "<ipython-input-28-022fcd1288ba>:134: RuntimeWarning: invalid value encountered in double_scalars\n",
      "  ratio_error = ratio_val * np.sqrt((error1/val_1)**2 + (error2/val_2)**2)\n"
     ]
    },
    {
     "name": "stdout",
     "output_type": "stream",
     "text": [
      "On time shift: +15\n"
     ]
    },
    {
     "name": "stderr",
     "output_type": "stream",
     "text": [
      "<ipython-input-28-022fcd1288ba>:134: RuntimeWarning: invalid value encountered in double_scalars\n",
      "  ratio_error = ratio_val * np.sqrt((error1/val_1)**2 + (error2/val_2)**2)\n",
      "<ipython-input-28-022fcd1288ba>:134: RuntimeWarning: invalid value encountered in double_scalars\n",
      "  ratio_error = ratio_val * np.sqrt((error1/val_1)**2 + (error2/val_2)**2)\n"
     ]
    },
    {
     "name": "stdout",
     "output_type": "stream",
     "text": [
      "On time shift: +17.5\n",
      "On time shift: +20\n"
     ]
    },
    {
     "name": "stderr",
     "output_type": "stream",
     "text": [
      "<ipython-input-28-022fcd1288ba>:134: RuntimeWarning: invalid value encountered in double_scalars\n",
      "  ratio_error = ratio_val * np.sqrt((error1/val_1)**2 + (error2/val_2)**2)\n",
      "<ipython-input-28-022fcd1288ba>:134: RuntimeWarning: invalid value encountered in double_scalars\n",
      "  ratio_error = ratio_val * np.sqrt((error1/val_1)**2 + (error2/val_2)**2)\n",
      "<ipython-input-28-022fcd1288ba>:156: UserWarning: This figure includes Axes that are not compatible with tight_layout, so results might be incorrect.\n",
      "  fig.tight_layout()\n"
     ]
    },
    {
     "name": "stdout",
     "output_type": "stream",
     "text": [
      "On time shift: +22.5\n",
      "DONE\n"
     ]
    }
   ],
   "source": [
    "##-- Same plot but for spike energy instead of time \n",
    "\n",
    "time_shift_label_dict = {\n",
    "    \"p5\" : \"+5\",\n",
    "    \"p7p5\" : \"+7.5\",\n",
    "    \"p10\" : \"+10\",\n",
    "    \"p12p5\" : \"+12.5\",\n",
    "    \"p15\" : \"+15\",\n",
    "    \"p17p5\" : \"+17.5\",\n",
    "    \"p20\" : \"+20\",\n",
    "    \"p22p5\" : \"+22.5\",\n",
    "}\n",
    "\n",
    "fig, axarr = plt.subplots(2, \n",
    "                            sharex=True, \n",
    "                            gridspec_kw={\n",
    "                                'hspace': 0.15,\n",
    "#                                     'height_ratios': (0.8,0.2)\n",
    "                                'height_ratios': (0.7,0.3)\n",
    "                                }\n",
    "                            )     \n",
    "\n",
    "\n",
    "upper = axarr[0] ##-- Upper axis. Will contain two distributions, one for each CMSSW config \n",
    "lower = axarr[1] ##-- Lower axis. Will contain ratio of two upper distributions \n",
    "lower.grid(True)\n",
    "upper.set_yscale('log')\n",
    "upper.set_ylim(1, 10e7)\n",
    "fig.set_size_inches(8, 6)\n",
    "\n",
    "##-- Upper left plot text\n",
    "##-- CMS \n",
    "plt.text(\n",
    "    # 0.05, 0.9, u\"CMS $\\it{Preliminary}$\",\n",
    "    0., 1., u\"CMS \",\n",
    "    fontsize=18, fontweight='bold',\n",
    "    horizontalalignment='left',\n",
    "    verticalalignment='bottom',\n",
    "    transform=upper.transAxes\n",
    ")\n",
    "\n",
    "##-- Preliminary \n",
    "plt.text(\n",
    "    # 0.05, 0.9, u\"CMS $\\it{Preliminary}$\",\n",
    "    0.11, 1., u\"$\\it{Standalone}$ $\\it{Simulation}$\",\n",
    "    fontsize=18,\n",
    "    horizontalalignment='left',\n",
    "    verticalalignment='bottom',\n",
    "    transform=upper.transAxes\n",
    ")\n",
    "\n",
    "spikeTime_min, spikeTime_max, spike_nbins = 0, 25, 400\n",
    "spikeEnergy_min, spikeEnergy_max, spikeEnergy_nbins = 3, 100, 97\n",
    "\n",
    "dt = (float(spikeTime_max) - spikeTime_min) / float(spike_nbins)\n",
    "spikeTimeBins = np.linspace(spikeTime_min, spikeTime_max, spike_nbins + 1)\n",
    "\n",
    "spikeEnergyBins = np.linspace(spikeEnergy_min, spikeEnergy_max, spikeEnergy_nbins + 1)\n",
    "dE = (float(spikeEnergy_max) - spikeEnergy_min) / float(spikeEnergy_nbins)\n",
    "\n",
    "# max_spike_time = max(spike_times_)    \n",
    "max_spike_energy = max(spike_energies)\n",
    "    \n",
    "##-- Plot full spike time distribution \n",
    "# upper.hist(spike_times_,alpha=0.5,label=\"All\",bins=spikeTimeBins, histtype = 'stepfilled')    \n",
    "upper.hist(spike_energies,alpha=0.5,label=\"All\",bins=spikeEnergyBins, histtype = 'stepfilled')    \n",
    "    \n",
    "\n",
    "# colors = [(165 / 255, 15 / 255, 21 / 255), (222 / 255, 45 / 255, 38 / 255), (251 / 255, 106 / 255, 74 / 255)] \n",
    "# colors = [(165 / 255, 15 / 255, 21 / 255), (222 / 255, 45 / 255, 38 / 255), (251 / 255, 106 / 255, 74 / 255)] \n",
    "# colors = ['0', '1', '2', '3']\n",
    "colors = [\"C%s\"%(str(i)) for i in range(0,10)]\n",
    "    \n",
    "##-- Add each time shift rejection to plot \n",
    "for time_i, time_shift in enumerate(time_shifts):\n",
    "    color = colors[time_i]\n",
    "        \n",
    "    time_shift_label = time_shift_label_dict[time_shift]\n",
    "    print(\"On time shift:\",time_shift_label)\n",
    "    \n",
    "    ##-- Get time shift mask for a given time shift \n",
    "    exec(\"time_shift_mask = A_2_gt_A_1_mask_%s\"%(time_shift))\n",
    "    \n",
    "    max_rej_time = max(spike_energies[time_shift_mask])\n",
    "    rej_spike_times = spike_energies[time_shift_mask]\n",
    "    \n",
    "    max_rej_Energy = max(spike_energies[time_shift_mask])\n",
    "    rej_spike_Energies = spike_energies[time_shift_mask]    \n",
    "\n",
    "#     print(\"1 / max_spike_time:\",1 / max_spike_time)\n",
    "\n",
    "    # weights = [1 / max_spike_time for i in range(0,len(spike_times_))]\n",
    "    # weights_rej = [1 / max_spike_time for i in range(0,len(rej_spike_times))]\n",
    "    # print(\"weights:\",weights)\n",
    "\n",
    "#     upper.hist(spike_times_,alpha=0.5,label=\"All\",bins=spikeTimeBins, histtype = 'stepfilled')\n",
    "    upper.hist(rej_spike_Energies,color=color,label=\"%s ns weights Tagged\"%(time_shift_label),bins=spikeEnergyBins, histtype = 'stepfilled')\n",
    "#     upper.hist(rej_spike_times,label=\"%s ns weights Tagged\"%(time_shift_label),bins=spikeTimeBins, histtype = 'stepfilled')\n",
    "#     plt.ylabel(\"Entries\")  \n",
    "    upper.set_ylabel(\"Entries / %s\"%(str(dE)), fontsize = 15, labelpad=5)\n",
    "    # plt.title(\"Spike Peak Times\", fontsize = 20)\n",
    "    # plt.xlabel(r\"Spike $t_{0}$ (ns)\")\n",
    "\n",
    "#     upper.legend(loc='upper right', prop={'size': 14})\n",
    "    upper.legend(loc='upper right', prop={'size': 8})\n",
    "    upper.grid(True)\n",
    "#     upper.yscale('log')\n",
    "    props = dict(boxstyle='round', facecolor='wheat', alpha=0.5)\n",
    "\n",
    "    ##-- Produce numpy histograms to obtain bin heights \n",
    "#     print(\"Producing numpy histograms...\")\n",
    "    allSpikes_bin_vals, bins_ = np.histogram(spike_energies, bins = spikeEnergyBins)\n",
    "    rejSpikes_bin_vals, bins_ = np.histogram(rej_spike_Energies, bins = spikeEnergyBins)\n",
    "\n",
    "    binvalues1_a = np.array(rejSpikes_bin_vals, dtype = float)\n",
    "    binvalues2_a = np.array(allSpikes_bin_vals, dtype = float)    \n",
    "\n",
    "    ##-- Get ratio of bins \n",
    "#     print(\"Taking ratio...\")\n",
    "\n",
    "    ratio = np.true_divide(binvalues1_a , binvalues2_a, out = np.zeros_like(binvalues2_a), where = binvalues2_a != 0)\n",
    "\n",
    "    ##-- Get error on each bin ratio \n",
    "    ratio_errors = []\n",
    "    for i, ratio_val in enumerate(ratio):\n",
    "        val_1 = binvalues1_a[i] \n",
    "        val_2 = binvalues2_a[i]\n",
    "        if(val_2 == 0): \n",
    "            ratio_errors.append(0)\n",
    "            continue \n",
    "        else:\n",
    "            error1 = np.sqrt(val_1)\n",
    "            error2 = np.sqrt(val_2)\n",
    "            ratio_error = ratio_val * np.sqrt((error1/val_1)**2 + (error2/val_2)**2) \n",
    "            ratio_errors.append(ratio_error)\n",
    "\n",
    "    ##-- Plot ratio of two histograms in lower section of canvas \n",
    "    bin_centers = [ (((float(spikeEnergyBins[i+1]) - float(spikeEnergyBins[i])) / 2.) + float(spikeEnergyBins[i])) for i in range(0, len(spikeEnergyBins)-1)]\n",
    "\n",
    "    # lower.plot([binInfo[0],binInfo[1]],[1,1],linestyle=':', color = 'black')\n",
    "    xerr = [ ((float(spikeEnergyBins[i+1]) - float(spikeEnergyBins[i])) / 2.) for i in range(0, len(spikeEnergyBins) - 1)]  \n",
    "    zero_errors = [0 for entry in ratio_errors] ##-- for no errors \n",
    "    # lower.errorbar(bin_centers, ratio, xerr = xerr , yerr = ratio_errors, marker = '.', color = 'black', ls = '') #drawstyle = 'steps-mid') ##-- For no ratio error bars \n",
    "#     lower.errorbar(bin_centers, ratio, xerr = zero_errors , yerr = zero_errors, marker = '.', color = 'black', ls = '', markersize = 1) #drawstyle = 'steps-mid') ##-- For no ratio error bars \n",
    "#     lower.errorbar(bin_centers, ratio, xerr = zero_errors , yerr = zero_errors, marker = '', color = color, ls = '-', markersize = 1) #drawstyle = 'steps-mid') ##-- For no ratio error bars \n",
    "    lower.errorbar(bin_centers, ratio, xerr = zero_errors , yerr = zero_errors, marker = '', ls = '-', markersize = 1) #drawstyle = 'steps-mid') ##-- For no ratio error bars \n",
    "\n",
    "#     lower.fill_between(bin_centers, np.subtract(ratio, ratio_errors), np.add(ratio, ratio_errors))\n",
    "\n",
    "    # lower.errorbar(bin_centers, ratio, xerr = xerr , yerr = ratio_errors, marker = '.', color = 'black', ls = '') #drawstyle = 'steps-mid') ##-- To add statistical ratio error bars  \n",
    "    lower.set_ylim(-0.1, 1.1) ##-- Ratio ymin, ymax \n",
    "    lower.set_ylabel(\"Fraction tagged\", fontsize = 15, labelpad=19)\n",
    "    lower.set_xlabel(r\"Spike energy\", fontsize = 15) \n",
    "    # lower.plot([spikeTime_min, spikeTime_max],[1,1],linestyle=':', color = 'black')\n",
    "      \n",
    "fig.tight_layout()\n",
    "plt.xscale('log')\n",
    "# upper.yscale('log')\n",
    "plt.savefig(\"/eos/user/a/atishelm/www/EcalL1Optimization/May_2021_TIPP_Approval/Double_Amplitude_Weights_SpikeTaggingwithOOTWeights_rejectedEnergies_allShifts.png\")\n",
    "plt.savefig(\"/eos/user/a/atishelm/www/EcalL1Optimization/May_2021_TIPP_Approval/Double_Amplitude_Weights_SpikeTaggingwithOOTWeights_rejectedEnergies_allShifts.pdf\")\n",
    "plt.close()\n",
    "    \n",
    "print(\"DONE\")"
   ]
  },
  {
   "cell_type": "code",
   "execution_count": null,
   "metadata": {},
   "outputs": [],
   "source": []
  }
 ],
 "metadata": {
  "kernelspec": {
   "display_name": "Python 3",
   "language": "python",
   "name": "python3"
  },
  "language_info": {
   "codemirror_mode": {
    "name": "ipython",
    "version": 3
   },
   "file_extension": ".py",
   "mimetype": "text/x-python",
   "name": "python",
   "nbconvert_exporter": "python",
   "pygments_lexer": "ipython3",
   "version": "3.9.6"
  },
  "toc": {
   "base_numbering": 1,
   "nav_menu": {},
   "number_sections": true,
   "sideBar": true,
   "skip_h1_title": false,
   "title_cell": "Table of Contents",
   "title_sidebar": "Contents",
   "toc_cell": false,
   "toc_position": {},
   "toc_section_display": true,
   "toc_window_display": false
  },
  "varInspector": {
   "cols": {
    "lenName": 16,
    "lenType": 16,
    "lenVar": 40
   },
   "kernels_config": {
    "python": {
     "delete_cmd_postfix": "",
     "delete_cmd_prefix": "del ",
     "library": "var_list.py",
     "varRefreshCmd": "print(var_dic_list())"
    },
    "r": {
     "delete_cmd_postfix": ") ",
     "delete_cmd_prefix": "rm(",
     "library": "var_list.r",
     "varRefreshCmd": "cat(var_dic_list()) "
    }
   },
   "types_to_exclude": [
    "module",
    "function",
    "builtin_function_or_method",
    "instance",
    "_Feature"
   ],
   "window_display": false
  }
 },
 "nbformat": 4,
 "nbformat_minor": 4
}
